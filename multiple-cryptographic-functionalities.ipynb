{
  "nbformat": 4,
  "nbformat_minor": 0,
  "metadata": {
    "colab": {
      "provenance": [],
      "collapsed_sections": [
        "J1UG02lRvlAH",
        "K3guJ-jSGDCx",
        "MfxvCpV-GVdr",
        "O936uQFFGhDb"
      ]
    },
    "kernelspec": {
      "name": "python3",
      "display_name": "Python 3"
    },
    "language_info": {
      "name": "python"
    }
  },
  "cells": [
    {
      "cell_type": "markdown",
      "source": [
        "# **Multiple Cryptographic Functionalities**\n",
        "\n",
        "---\n",
        "\n",
        "\n",
        "\n",
        "\n",
        "\n"
      ],
      "metadata": {
        "id": "43fS5W8SGyBx"
      }
    },
    {
      "cell_type": "code",
      "source": [
        "#Name: Alina Hasan\n",
        "#ID: 20101301"
      ],
      "metadata": {
        "id": "fZdB_EddHAkE"
      },
      "execution_count": null,
      "outputs": []
    },
    {
      "cell_type": "markdown",
      "source": [
        "### Write a program that integrates multiple cryptographic functionalities into a single application. You are allowed to import cryptographic libraries and use built-in methods."
      ],
      "metadata": {
        "id": "63-T7pX7IMIi"
      }
    },
    {
      "cell_type": "markdown",
      "source": [
        "# **Install & Import**\n",
        "\n",
        "---\n",
        "\n"
      ],
      "metadata": {
        "id": "PVojFMw2NXfm"
      }
    },
    {
      "cell_type": "code",
      "source": [
        "!pip install pycryptodome"
      ],
      "metadata": {
        "colab": {
          "base_uri": "https://localhost:8080/"
        },
        "id": "XHa4RNb6FvLF",
        "outputId": "199d4803-5936-471e-a14e-a5bc95d7ebd9"
      },
      "execution_count": null,
      "outputs": [
        {
          "output_type": "stream",
          "name": "stdout",
          "text": [
            "Requirement already satisfied: pycryptodome in /usr/local/lib/python3.10/dist-packages (3.18.0)\n"
          ]
        }
      ]
    },
    {
      "cell_type": "code",
      "source": [
        "import os\n",
        "import sys\n",
        "import ast\n",
        "import hmac\n",
        "import hashlib\n",
        "import random\n",
        "import binascii\n",
        "import base64\n",
        "from Crypto import Random\n",
        "from Crypto.Cipher import AES\n",
        "from Crypto.Util import number\n",
        "from Crypto.Hash import SHA256\n",
        "from Crypto.Hash import SHA256\n",
        "from Crypto.PublicKey import RSA\n",
        "from Crypto.Signature import pkcs1_15\n",
        "from Crypto.Util.Padding import pad, unpad\n",
        "from cryptography.hazmat.primitives import cmac\n",
        "from cryptography.hazmat.primitives.ciphers import algorithms"
      ],
      "metadata": {
        "id": "o3-bHArIGCNA"
      },
      "execution_count": null,
      "outputs": []
    },
    {
      "cell_type": "markdown",
      "source": [
        "# **Other Functions**\n",
        "\n",
        "---\n",
        "\n"
      ],
      "metadata": {
        "id": "J1UG02lRvlAH"
      }
    },
    {
      "cell_type": "code",
      "source": [
        "def check_option(options, prompt):\n",
        "\n",
        "        while True:\n",
        "\n",
        "            choice = input(prompt)\n",
        "\n",
        "            if choice in options:\n",
        "\n",
        "                return choice\n",
        "\n",
        "            else:\n",
        "\n",
        "                print(\"Invalid choice. Please choose a valid option.\")\n",
        "\n",
        "def is_prime(n):\n",
        "\n",
        "        if n > 1:\n",
        "\n",
        "            for i in range(2, int(n / 2) + 1):\n",
        "\n",
        "                if (n % i) == 0:\n",
        "\n",
        "                    return 0\n",
        "\n",
        "                else:\n",
        "\n",
        "                   return 1\n",
        "\n",
        "        else:\n",
        "\n",
        "            return 0\n",
        "\n",
        "def check_prime(prompt):\n",
        "\n",
        "    while True:\n",
        "\n",
        "        n = int(input(prompt))\n",
        "\n",
        "        if is_prime(n) == 0:\n",
        "\n",
        "            print(f\"{n} is not a prime number\")\n",
        "\n",
        "        else:\n",
        "\n",
        "            return n\n",
        "\n",
        "def is_coprime(a, b): #OR,  GCD\n",
        "\n",
        "    if a == 0 or b == 0:\n",
        "\n",
        "        return 0\n",
        "\n",
        "    if a == b:\n",
        "\n",
        "        return a\n",
        "\n",
        "    if a > b:\n",
        "\n",
        "        return is_coprime(a - b, b)\n",
        "\n",
        "    return is_coprime(a, b - a)\n",
        "\n",
        "\n",
        "def check_coprime(a, prompt):\n",
        "\n",
        "    while True:\n",
        "\n",
        "        b = int(input(prompt))\n",
        "\n",
        "        if is_coprime(a, b) == 1:\n",
        "\n",
        "            return b\n",
        "\n",
        "        else:\n",
        "\n",
        "            print(f\"{b} is not relatively prime to {a}\")"
      ],
      "metadata": {
        "id": "_zV8ctL0vi32"
      },
      "execution_count": null,
      "outputs": []
    },
    {
      "cell_type": "markdown",
      "source": [
        "### The program should allow users to perform the following operation:"
      ],
      "metadata": {
        "id": "oxQbxj85N4q-"
      }
    },
    {
      "cell_type": "markdown",
      "source": [
        "# **1. AES Encryption/Decryption**\n",
        "Should support AES encryption and decryption using either ECB or CBC mode. Users should be able to input the plaintext or ciphertext, specify the AES mode, provide the necessary keys, and select the operation (encryption or decryption). The program should deliver the expected output based on the user's input.\n",
        "\n",
        "**Required inputs:** Mode (ECB/CBC), Operation (Encrypt/Decrypt), Plaintext/Ciphertext, Key\n",
        "\n",
        "---\n",
        "\n"
      ],
      "metadata": {
        "id": "K3guJ-jSGDCx"
      }
    },
    {
      "cell_type": "code",
      "source": [
        "class AESDemo:\n",
        "\n",
        "    def encrypt(self, mode, message, key):\n",
        "\n",
        "        message = pad(bytes(message, 'utf-8'), AES.block_size) #Ensures size is 128-bits\n",
        "        key = pad(bytes(key, 'utf-8'), AES.block_size)\n",
        "\n",
        "        if mode == '1':\n",
        "\n",
        "            IV = Random.new().read(AES.block_size)\n",
        "            AES_obj = AES.new(key, AES.MODE_CBC, IV)\n",
        "            ciphertext = IV + AES_obj.encrypt(message)\n",
        "\n",
        "        elif mode == '2':\n",
        "\n",
        "            AES_obj = AES.new(key, AES.MODE_ECB)\n",
        "            ciphertext = AES_obj.encrypt(message)\n",
        "\n",
        "        return ciphertext\n",
        "\n",
        "    def decrypt(self, mode, message, key):\n",
        "\n",
        "        message = ast.literal_eval(message)\n",
        "        key = pad(bytes(key, 'utf-8'), AES.block_size)\n",
        "\n",
        "        if mode == '1':\n",
        "\n",
        "            IV,  message = message[:AES.block_size], message[AES.block_size:]\n",
        "            AES_obj = AES.new(key, AES.MODE_CBC, IV)\n",
        "            message = AES_obj.decrypt(message)\n",
        "\n",
        "        elif mode == '2':\n",
        "\n",
        "            AES_obj = AES.new(key, AES.MODE_ECB)\n",
        "            message = AES_obj.decrypt(message)\n",
        "\n",
        "        message = unpad(message, AES.block_size).decode('utf-8')\n",
        "\n",
        "        return message\n",
        "\n",
        "    def run_demo(self):\n",
        "\n",
        "        options = ['1', '2']\n",
        "\n",
        "        print(\"1. CBC\")\n",
        "        print(\"2. ECB\")\n",
        "        mode = check_option(options, \"Select mode (1/2): \")\n",
        "\n",
        "        print(\"1. Encrypt\")\n",
        "        print(\"2. Decrypt\")\n",
        "        operation = check_option(options, \"Select operation (1/2): \")\n",
        "\n",
        "        message = input(\"Enter message: \")\n",
        "        key = input(\"Enter Key: \")\n",
        "\n",
        "        if operation == '1':\n",
        "\n",
        "            ciphertext = self.encrypt(mode, message, key)\n",
        "            print(\"Encrypted text:\", ciphertext)\n",
        "\n",
        "        else:\n",
        "\n",
        "            plaintext = self.decrypt(mode, message, key)\n",
        "            print(\"Decrypted text:\", plaintext)\n",
        "\n",
        "# Example usage\n",
        "# demo = AESDemo()\n",
        "# demo.run_demo()"
      ],
      "metadata": {
        "id": "5pWssoyeGQMB"
      },
      "execution_count": null,
      "outputs": []
    },
    {
      "cell_type": "markdown",
      "source": [
        "# **2. RSA Encryption/Decryption**\n",
        "\n",
        "Should offer RSA encryption and decryption capabilities. Users should be able to input the plaintext or ciphertext, select the RSA operation, provide the required RSA keys, and choose the desired encryption or decryption process.\n",
        "\n",
        "**Required inputs:** Operation (Encrypt/Decrypt), Plaintext/Ciphertext, Key\n",
        "\n",
        "---\n",
        "\n"
      ],
      "metadata": {
        "id": "dz1EZlUnGRBZ"
      }
    },
    {
      "cell_type": "code",
      "source": [
        "class RSADemo:\n",
        "\n",
        "    def generate_keys(self):\n",
        "\n",
        "        print(\"Generating Keys...\")\n",
        "\n",
        "        p = int(check_prime(\"Enter a prime number: \"))\n",
        "        q = int(check_prime(\"Enter another prime number: \"))\n",
        "\n",
        "        N = p * q\n",
        "        phi = (p - 1) * (q - 1)\n",
        "\n",
        "        e = int(check_coprime(phi, f\"Enter a relatively prime number to {phi}: \"))\n",
        "\n",
        "        d = pow(e, -1, phi)\n",
        "\n",
        "        return N, e, phi, d\n",
        "\n",
        "    def encrypt(self, M, N, e):\n",
        "\n",
        "        C = pow(M, e, N)\n",
        "        # C = M ** e % N\n",
        "\n",
        "        return C\n",
        "\n",
        "    def decrypt(self, C, N, d):\n",
        "\n",
        "        M = pow(C, d, N)\n",
        "        # M = C ** d % N\n",
        "\n",
        "        return M\n",
        "\n",
        "    def prompt_encrypt(self, N, e, d):\n",
        "\n",
        "        M = int(input(\"Enter message: \"))\n",
        "\n",
        "        C = self.encrypt(M, N, e)\n",
        "        print(f\"Encrypted message: {C}\")\n",
        "        print(f\"Corresponding public key (N,e): {(N, e)}\")\n",
        "        print(f\"Corresponding private key: {d} \")\n",
        "\n",
        "        return M, C\n",
        "\n",
        "\n",
        "    def run_demo(self):\n",
        "\n",
        "        options = ['1', '2']\n",
        "\n",
        "        print(\"1. Encrypt\")\n",
        "        print(\"2. Decrypt\")\n",
        "\n",
        "        operation = check_option(options, \"Select operation (1/2): \")\n",
        "\n",
        "        if operation == '1':\n",
        "\n",
        "            N, e, phi, d = self.generate_keys()\n",
        "            self.prompt_encrypt(N, e, d)\n",
        "\n",
        "        elif operation == '2':\n",
        "\n",
        "            C = int(input(\"Enter encrypted message: \"))\n",
        "            N = int(input(\"Enter public key, N: \"))\n",
        "            d = int(input(\"Enter private key: \"))\n",
        "\n",
        "            M = self.decrypt(C, N, d)\n",
        "            print(\"Decrypted message: \", M)\n",
        "\n",
        "        else:\n",
        "\n",
        "            print(\"Invalid choice. Select operation (1/2).\")\n",
        "\n",
        "# Example Usage\n",
        "# demo = RSADemo()\n",
        "# demo.run_demo()\n",
        "\n",
        "#TRY FOR ACTUAL MESSAGES USING ASCII ord() and chr()"
      ],
      "metadata": {
        "id": "8KxqRQlzGUsp"
      },
      "execution_count": null,
      "outputs": []
    },
    {
      "cell_type": "markdown",
      "source": [
        "# **3. Hashing**\n",
        "\n",
        "Should include hashing functionalities supporting SHA1 and SHA256 algorithms. Users should be able to input the data to be hashed, specify the hash mode (SHA1 or SHA256), and trigger the operation. The program should generate the corresponding hash value.\n",
        "\n",
        "**Required inputs:** Plaintext, Hash Mode(SHA1/SHA256/MD5)\n",
        "\n",
        "---\n",
        "\n",
        "\n"
      ],
      "metadata": {
        "id": "MfxvCpV-GVdr"
      }
    },
    {
      "cell_type": "code",
      "source": [
        "class HashDemo:\n",
        "\n",
        "    def hash(self, mode, plaintext):\n",
        "\n",
        "        plaintext = plaintext.encode('utf-8')\n",
        "\n",
        "        if mode == '1':\n",
        "\n",
        "            return hashlib.sha1(plaintext)\n",
        "\n",
        "        elif mode == '2':\n",
        "\n",
        "            return hashlib.sha256(plaintext)\n",
        "\n",
        "        else:\n",
        "\n",
        "            return  hashlib.md5(plaintext)\n",
        "\n",
        "    def run_demo(self):\n",
        "\n",
        "        options = ['1', '2', '3']\n",
        "\n",
        "        print(\"1. SHA1\")\n",
        "        print(\"2. SHA256\")\n",
        "        print(\"3. MD5\")\n",
        "\n",
        "        mode = check_option(options, (\"Select hash mode (1/2/3): \"))\n",
        "\n",
        "        message = input(\"Enter message: \")\n",
        "        hashed_value = self.hash(mode, message).hexdigest()\n",
        "        print(f\"Corresponding hash value: {hashed_value}\")\n",
        "\n",
        "#Example Usage\n",
        "# demo = HashDemo()\n",
        "# demo.run_demo()"
      ],
      "metadata": {
        "id": "68zcB0f2Ga-Q"
      },
      "execution_count": null,
      "outputs": []
    },
    {
      "cell_type": "markdown",
      "source": [
        "#**4. Digital Signature using RSA**\n",
        "\n",
        "Should facilitate the generation and verification of digital signatures using RSA. Users should be able to input the message to be signed, select the RSA keys for signing, and initiate the signing process. Similarly, users should be able to input the signed message, specify the RSA public key, and perform the digital signature verification. The program should ensure the integrity and authenticity of the digital signatures.\n",
        "\n",
        "**Required inputs:** Operation(Generation/Verification), Message/Signature\n",
        "\n",
        "\n",
        "---\n",
        "\n"
      ],
      "metadata": {
        "id": "o44Ynw8_GeB4"
      }
    },
    {
      "cell_type": "code",
      "source": [
        "#With Hash\n",
        "\n",
        "class DigitalSignatureRSA:\n",
        "\n",
        "    def generate_keys(self):\n",
        "\n",
        "        key = RSA.generate(1024)\n",
        "\n",
        "        private_key = base64.b64encode(key.export_key()).decode('utf-8')\n",
        "        public_key = base64.b64encode(key.publickey().export_key()).decode('utf-8')\n",
        "\n",
        "        return private_key, public_key\n",
        "\n",
        "    def generate_signature(self, private_key, message):\n",
        "\n",
        "        key = RSA.import_key(base64.b64decode(private_key))\n",
        "        hashed_value = SHA256.new(message.encode('utf-8'))\n",
        "        signature = pkcs1_15.new(key).sign(hashed_value)\n",
        "\n",
        "        return signature\n",
        "\n",
        "    def verify_signature(self, public_key, message, signature):\n",
        "\n",
        "        key = RSA.import_key(base64.b64decode(public_key))\n",
        "        hashed_value = SHA256.new(message.encode('utf-8'))\n",
        "\n",
        "        try:\n",
        "\n",
        "            pkcs1_15.new(key).verify(hashed_value, signature)\n",
        "\n",
        "            return True\n",
        "\n",
        "        except:\n",
        "\n",
        "            return False\n",
        "\n",
        "    def run_demo(self):\n",
        "\n",
        "        options = ['1', '2']\n",
        "        print(\"1. Generate Signature\")\n",
        "        print(\"2. Verify Signature\")\n",
        "        operation = check_option(options, \"Select operation (1/2): \")\n",
        "\n",
        "        if operation == '1':\n",
        "\n",
        "            private_key, public_key = self.generate_keys()\n",
        "            message = input(\"Enter message: \")\n",
        "            signature = self.generate_signature(private_key, message)\n",
        "            print(f\"Generated Signature: {base64.b64encode(signature).decode('utf-8')}\")\n",
        "            print(f\"Corresponding private key: {private_key}\")\n",
        "            print(f\"Corresponding public key: {public_key}\")\n",
        "\n",
        "        elif operation == '2':\n",
        "\n",
        "            public_key = input(\"Enter Public Key: \")\n",
        "            message = input(\"Enter message: \")\n",
        "            signature = input(\"Enter signature: \")\n",
        "            signature = base64.b64decode(signature)\n",
        "            valid  = self.verify_signature(public_key, message, signature)\n",
        "\n",
        "            if valid:\n",
        "\n",
        "                print(\"Signature Valid.\")\n",
        "\n",
        "                return\n",
        "\n",
        "            print(\"Signature Invalid.\")\n",
        "\n",
        "\n",
        "#Example Usage\n",
        "# demo = DigitalSignatureRSA()\n",
        "# demo.run_demo()"
      ],
      "metadata": {
        "id": "rFgxQ3ZgGgMq"
      },
      "execution_count": null,
      "outputs": []
    },
    {
      "cell_type": "markdown",
      "source": [
        "#**5. MAC Generation:**\n",
        "\n",
        "The program should allow users to generate Message Authentication Codes (MAC) for data integrity and authenticity. Users should be able to input the data, select the MAC algorithm, and initiate the MAC generation process. The program should generate the MAC value accurately, maintaining the security of the data.\n",
        "\n",
        "**Required inputs:** Message\n",
        "\n",
        "---\n",
        "\n"
      ],
      "metadata": {
        "id": "O936uQFFGhDb"
      }
    },
    {
      "cell_type": "code",
      "execution_count": null,
      "metadata": {
        "id": "g7zHNPZmDlKb"
      },
      "outputs": [],
      "source": [
        "class MACDemo:\n",
        "\n",
        "    def CBC_MAC(self, message, key): #Cipher Block Chaining-MAC\n",
        "\n",
        "        c_obj = cmac.CMAC(algorithms.TripleDES(key))\n",
        "        c_obj.update(message)\n",
        "        signature = c_obj.finalize()\n",
        "\n",
        "        print (f\"Message: {message.decode()}\" )\n",
        "        print (f\"CMAC signature: {binascii.b2a_hex(signature).decode()}\")\n",
        "\n",
        "    def Hash_MAC(self, message, key):\n",
        "\n",
        "        signature = hmac.new(key, message, hashlib.sha256).hexdigest()\n",
        "        print(f\"HMAC (SHA-256) signature: {signature}\")\n",
        "\n",
        "        return signature\n",
        "\n",
        "    def run_demo(self):\n",
        "\n",
        "        options = ['1', '2']\n",
        "        print('1. CMAC')\n",
        "        print('2. HMAC')\n",
        "        operation = check_option(options, \"Select operation (1/2): \")\n",
        "\n",
        "        message = input(\"Enter message: \").encode()\n",
        "        key = os.urandom(16)\n",
        "\n",
        "        if operation == '1':\n",
        "\n",
        "            self.CBC_MAC(message, key)\n",
        "\n",
        "        if operation == '2':\n",
        "\n",
        "            # key = input(\"Enter Key: \").encode()\n",
        "            self.Hash_MAC(message, key)\n",
        "\n",
        "#Example Usage\n",
        "# mac_demo = MACDemo()\n",
        "# mac_demo.run_demo()"
      ]
    },
    {
      "cell_type": "code",
      "source": [
        "# #verify the given information here\n",
        "# MAC(\"I met an interesting turtle while the song on the radio blasted away\", b'\\x01\\xd8i\\xa1^0\\x9a<\\x0f\\xf0\\r\\xc1\\xdd\\xd5\\x89\\xa6')\n",
        "#ba4ecb8db45c6ae0\n",
        "# MAC(\"I like to leave work after my eight-hour tea-break\", b'\\xa6+\\x16\\x9d-1\\xda\\x8aV\\xed\\xf5\\xf0cv\\x04\\x88')\n",
        "5# MAC(\"Her daily goal was to improve on yesterday\", b'[\\xc5\\xbd\\xe4z\\xd1=E\\x17-ku\\x02=|=')\n",
        "# MAC(\"He found the chocolate covered roaches quite tasty\", b'5\"k\\xff\\x81a\\x9b 7\\x8c>\\xb7\\xb9\\xdcu\\xaa')\n",
        "# MAC(\"After fighting off the alligator, Brian still had to face the anaconda\", b'\\xa1\\xfcw\"?3\\x91\\x1c\\t\\x9c\\x91\\xe2He\\x935')\n",
        "# MAC(\"He decided to count all the sand on the beach as a hobby\", b'\\xa7\\x83@\\xde\\xbf\\xb494\\xee\\x84\\x1e-\\xc8A\\xf9:')\n",
        "# MAC(\"The sign said there was road work ahead so he decided to speed up\", b'2\\xcbv\\xdcU6\\x99\\xb6.\\xa7\\xea\\xeb\\xaf\\x10\\xc7\\x90')\n",
        "# MAC(\"Send 500$ to this account - 6589415651548\", b'\\xc3\\xea\\x99e\\xaal\\xab\\xd4\\x9b\\xf9\\xb4Z\\x19\\xed\\xcf\\xcb')\n",
        "# MAC(\"Garlic ice-cream was her favorite\", b'\\x05\\xf9\\x83\\x9d\\xb7\\xb6\\xc3\\xb8\\x9e\\xc5\\xd9\\xd8\\x07]\\xc6\\xb3')\n",
        "# MAC(\"I'd rather be a bird than a fish\", b'\\x84YY\\xf0\\x02GU\\xa4LD\\xd5\\x85!A\\xc2c')"
      ],
      "metadata": {
        "id": "yOe9GuaxDN4U",
        "colab": {
          "base_uri": "https://localhost:8080/"
        },
        "outputId": "44e4e8f2-0499-4835-f58a-555e09469c58"
      },
      "execution_count": null,
      "outputs": [
        {
          "output_type": "execute_result",
          "data": {
            "text/plain": [
              "5"
            ]
          },
          "metadata": {},
          "execution_count": 94
        }
      ]
    },
    {
      "cell_type": "markdown",
      "source": [
        "# **Implementation**\n",
        "\n",
        "---\n",
        "\n"
      ],
      "metadata": {
        "id": "Byoy6VfFIrYz"
      }
    },
    {
      "cell_type": "code",
      "source": [
        "while True:\n",
        "\n",
        "    options = ['1', '2', '3', '4', '5', '6' ]\n",
        "\n",
        "    print(\"1. AES Encryption/Decryption\")\n",
        "    print(\"2. RSA Encryption/Decryption\")\n",
        "    print(\"3. Hashing\")\n",
        "    print(\"4. Digital Signature using RSA\")\n",
        "    print(\"5. MAC Generation\")\n",
        "    print(\"6. Exit\")\n",
        "\n",
        "    operation = check_option(options, \"Select Option 1~6: \")\n",
        "\n",
        "    if operation == '1':\n",
        "\n",
        "        demo = AESDemo()\n",
        "        demo.run_demo()\n",
        "\n",
        "    elif  operation == '2':\n",
        "\n",
        "        demo = RSADemo()\n",
        "        demo.run_demo()\n",
        "\n",
        "    elif operation == '3':\n",
        "\n",
        "        demo = HashDemo()\n",
        "        demo.run_demo()\n",
        "\n",
        "    elif operation == '4':\n",
        "\n",
        "        demo = DigitalSignatureRSA()\n",
        "        demo.run_demo()\n",
        "\n",
        "    elif operation == '5':\n",
        "\n",
        "        demo = MACDemo()\n",
        "        demo.run_demo()\n",
        "\n",
        "    elif operation == '6':\n",
        "\n",
        "        print(\"Exiting...\")\n",
        "\n",
        "        break\n",
        "\n",
        "    print(\"\\n-----------------------------------------------------------------------------\\n\")\n"
      ],
      "metadata": {
        "id": "Y1r5uAQSGqLA",
        "colab": {
          "base_uri": "https://localhost:8080/"
        },
        "outputId": "b881b9c1-e96a-43b1-cbab-5db2efc6657e"
      },
      "execution_count": null,
      "outputs": [
        {
          "output_type": "stream",
          "name": "stdout",
          "text": [
            "1. AES Encryption/Decryption\n",
            "2. RSA Encryption/Decryption\n",
            "3. Hashing\n",
            "4. Digital Signature using RSA\n",
            "5. MAC Generation\n",
            "6. Exit\n",
            "Select Option 1~6: 2\n",
            "1. Encrypt\n",
            "2. Decrypt\n",
            "Select operation (1/2): 1\n",
            "Generating Keys...\n",
            "Enter a prime number: 29\n",
            "Enter another prime number: 31\n",
            "Enter a relatively prime number to 840: 14\n",
            "14 is not relatively prime to 840\n",
            "Enter a relatively prime number to 840: 11\n",
            "Enter message: 123\n",
            "Encrypted message: 371\n",
            "Corresponding public key (N,e): (899, 11)\n",
            "Corresponding private key: 611 \n",
            "\n",
            "-----------------------------------------------------------------------------\n",
            "\n",
            "1. AES Encryption/Decryption\n",
            "2. RSA Encryption/Decryption\n",
            "3. Hashing\n",
            "4. Digital Signature using RSA\n",
            "5. MAC Generation\n",
            "6. Exit\n",
            "Select Option 1~6: 2\n",
            "1. Encrypt\n",
            "2. Decrypt\n",
            "Select operation (1/2): 2\n",
            "Enter encrypted message: 371\n",
            "Enter public key, N: 899\n",
            "Enter private key: 611\n",
            "Decrypted message:  123\n",
            "\n",
            "-----------------------------------------------------------------------------\n",
            "\n",
            "1. AES Encryption/Decryption\n",
            "2. RSA Encryption/Decryption\n",
            "3. Hashing\n",
            "4. Digital Signature using RSA\n",
            "5. MAC Generation\n",
            "6. Exit\n"
          ]
        }
      ]
    }
  ]
}
